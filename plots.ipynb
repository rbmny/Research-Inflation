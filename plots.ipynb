{
 "cells": [
  {
   "cell_type": "raw",
   "metadata": {},
   "source": [
    "Standard imports"
   ]
  },
  {
   "cell_type": "code",
   "execution_count": 1,
   "metadata": {
    "jupyter": {
     "is_executing": true
    }
   },
   "outputs": [
    {
     "ename": "ModuleNotFoundError",
     "evalue": "No module named 'plotly'",
     "output_type": "error",
     "traceback": [
      "\u001b[0;31m---------------------------------------------------------------------------\u001b[0m",
      "\u001b[0;31mModuleNotFoundError\u001b[0m                       Traceback (most recent call last)",
      "Cell \u001b[0;32mIn [1], line 1\u001b[0m\n\u001b[0;32m----> 1\u001b[0m \u001b[38;5;28;01mimport\u001b[39;00m \u001b[38;5;21;01mplotly\u001b[39;00m\u001b[38;5;21;01m.\u001b[39;00m\u001b[38;5;21;01mexpress\u001b[39;00m \u001b[38;5;28;01mas\u001b[39;00m \u001b[38;5;21;01mpx\u001b[39;00m\n\u001b[1;32m      2\u001b[0m \u001b[38;5;28;01mimport\u001b[39;00m \u001b[38;5;21;01mpickle\u001b[39;00m\n\u001b[1;32m      3\u001b[0m \u001b[38;5;28;01mimport\u001b[39;00m \u001b[38;5;21;01mpandas\u001b[39;00m \u001b[38;5;28;01mas\u001b[39;00m \u001b[38;5;21;01mpd\u001b[39;00m\n",
      "\u001b[0;31mModuleNotFoundError\u001b[0m: No module named 'plotly'"
     ]
    }
   ],
   "source": [
    "import plotly.express as px\n",
    "import pickle\n",
    "import pandas as pd"
   ]
  },
  {
   "cell_type": "raw",
   "metadata": {},
   "source": [
    "Open files"
   ]
  },
  {
   "cell_type": "code",
   "execution_count": null,
   "metadata": {
    "jupyter": {
     "is_executing": true
    }
   },
   "outputs": [],
   "source": [
    "with open('../Databases/Data/Inflation/inflation_deltas.pkl', 'rb') as f:\n",
    "    inflation_deltas = pickle.load(f)\n",
    "with open('../Databases/Data/Matrices/linear/l_predict_related_words.pickle', 'rb') as f:\n",
    "    pmtx1 = pickle.load(f)\n",
    "with open('../Databases/Data/Matrices/linear/l_predict_w2v_matrix.pickle', 'rb') as f:\n",
    "    pmtx2 = pickle.load(f)\n",
    "lmtx = [pmtx1, pmtx2]\n",
    "pmtx1"
   ]
  },
  {
   "cell_type": "raw",
   "metadata": {},
   "source": [
    "Crop inflation deltas"
   ]
  },
  {
   "cell_type": "code",
   "execution_count": null,
   "metadata": {
    "jupyter": {
     "is_executing": true
    }
   },
   "outputs": [],
   "source": [
    "dates = inflation_deltas.index.tolist()[48:]\n",
    "inflation_deltas[48:]"
   ]
  },
  {
   "cell_type": "code",
   "execution_count": null,
   "metadata": {
    "jupyter": {
     "is_executing": true
    }
   },
   "outputs": [],
   "source": [
    "# pmtx"
   ]
  },
  {
   "cell_type": "markdown",
   "metadata": {},
   "source": [
    "## Create indexes"
   ]
  },
  {
   "cell_type": "code",
   "execution_count": null,
   "metadata": {
    "jupyter": {
     "is_executing": true
    }
   },
   "outputs": [],
   "source": [
    "for pmtx in lmtx:\n",
    "    pmtx.loc[:, 'p0'] = pmtx.predict.map(lambda x: x[0])\n",
    "    pmtx.loc[:, 'a0'] = pmtx.actual.map(lambda x: x[0])\n",
    "    x = inflation_deltas.CPIAUCSL[48:-1].tolist()\n",
    "    pmtx['p1']=x*(pmtx.p0/100+1)\n",
    "    prev = x[0]\n",
    "    p1 = []\n",
    "    for i in pmtx.p0:\n",
    "        prev = prev*(i/100+1)\n",
    "        p1.append(prev)\n",
    "    pmtx['p1'] = p1"
   ]
  },
  {
   "cell_type": "markdown",
   "metadata": {},
   "source": [
    "### Plot data"
   ]
  },
  {
   "cell_type": "code",
   "execution_count": null,
   "metadata": {
    "jupyter": {
     "is_executing": true
    }
   },
   "outputs": [],
   "source": [
    "plots0 = {\n",
    "    'inflation':lmtx[0].a0,\n",
    "    'tree':lmtx[0].p0,\n",
    "    'elastic':lmtx[1].p0\n",
    "}\n",
    "dfp0 = pd.DataFrame(plots0)\n",
    "\n",
    "plots1 = {\n",
    "    'inflation':inflation_deltas['CPIAUCSL'][48:-1].tolist(),\n",
    "    'tree':lmtx[0].p1,\n",
    "    'elastic':lmtx[1].p1\n",
    "}\n",
    "dfp1 = pd.DataFrame(plots1)"
   ]
  },
  {
   "cell_type": "code",
   "execution_count": null,
   "metadata": {
    "jupyter": {
     "is_executing": true
    }
   },
   "outputs": [],
   "source": [
    "fig = px.line(dfp1, y=dfp1.columns, x=dates[:-1])\n",
    "fig2= px.line(dfp0, y=dfp0.columns, x=dates[:-1])\n",
    "fig2.show()\n",
    "fig.show()"
   ]
  }
 ],
 "metadata": {
  "kernelspec": {
   "display_name": "Python 3 (ipykernel)",
   "language": "python",
   "name": "python3"
  },
  "language_info": {
   "codemirror_mode": {
    "name": "ipython",
    "version": 3
   },
   "file_extension": ".py",
   "mimetype": "text/x-python",
   "name": "python",
   "nbconvert_exporter": "python",
   "pygments_lexer": "ipython3",
   "version": "3.9.6"
  }
 },
 "nbformat": 4,
 "nbformat_minor": 4
}
